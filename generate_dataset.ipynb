{
 "cells": [
  {
   "cell_type": "code",
   "execution_count": 1,
   "id": "591ceb64",
   "metadata": {},
   "outputs": [],
   "source": [
    "import glob, os, shutil\n",
    "\n",
    "from PIL import Image\n",
    "import matplotlib.pyplot as plt\n",
    "\n",
    "import time\n",
    "\n",
    "import concurrent.futures"
   ]
  },
  {
   "cell_type": "code",
   "execution_count": 2,
   "id": "0b45c687",
   "metadata": {},
   "outputs": [
    {
     "name": "stdout",
     "output_type": "stream",
     "text": [
      "/home/elfo/side_projects/rice_type\n"
     ]
    }
   ],
   "source": [
    "print(os.getcwd())"
   ]
  },
  {
   "cell_type": "code",
   "execution_count": 3,
   "id": "11c8237a",
   "metadata": {},
   "outputs": [
    {
     "data": {
      "text/plain": [
       "'/home/elfo/side_projects/rice_type/rice_dataset'"
      ]
     },
     "execution_count": 3,
     "metadata": {},
     "output_type": "execute_result"
    }
   ],
   "source": [
    "new_dir = '/home/elfo/side_projects/rice_type/rice_dataset'\n",
    "try:\n",
    "    os.mkdir(new_dir)\n",
    "except:\n",
    "    pass\n",
    "target_loc = os.path.join(os.getcwd(), new_dir)\n",
    "target_loc"
   ]
  },
  {
   "cell_type": "code",
   "execution_count": 4,
   "id": "448cf022",
   "metadata": {},
   "outputs": [
    {
     "data": {
      "text/plain": [
       "'/home/elfo/side_projects/rice_type/rice_label_dataset'"
      ]
     },
     "execution_count": 4,
     "metadata": {},
     "output_type": "execute_result"
    }
   ],
   "source": [
    "new_dir = '/home/elfo/side_projects/rice_type/rice_label_dataset'\n",
    "try:\n",
    "    os.mkdir(new_dir)\n",
    "except:\n",
    "    pass\n",
    "label_loc = os.path.join(os.getcwd(), new_dir)\n",
    "label_loc"
   ]
  },
  {
   "cell_type": "code",
   "execution_count": 5,
   "id": "e72dbaca",
   "metadata": {},
   "outputs": [],
   "source": [
    "orig_loc = '/home/elfo/side_projects/rice_type/Rice_Image_Dataset/'"
   ]
  },
  {
   "cell_type": "code",
   "execution_count": 6,
   "id": "773021c4",
   "metadata": {},
   "outputs": [],
   "source": [
    "os.chdir(orig_loc)"
   ]
  },
  {
   "cell_type": "code",
   "execution_count": 7,
   "id": "0cc34f62",
   "metadata": {},
   "outputs": [],
   "source": [
    "def process_image(fn, cnt=0, new_dim=(250,250)):\n",
    "    img = Image.open(fn)\n",
    "    img = img.resize(new_dim, Image.ANTIALIAS)\n",
    "    plt.savefig(os.path.join(target_loc, '{:05d}.jpg'.format(cnt)))\n",
    "\n",
    "def move_image(fn, new_dim=(250,250)):\n",
    "    img = Image.open(fn)\n",
    "    img = img.resize(new_dim, Image.ANTIALIAS)\n",
    "    plt.savefig(os.path.join(label_loc, fn.split('/')[-1]))"
   ]
  },
  {
   "cell_type": "code",
   "execution_count": null,
   "id": "707811a8",
   "metadata": {},
   "outputs": [],
   "source": []
  },
  {
   "cell_type": "code",
   "execution_count": 8,
   "id": "5d916a6f",
   "metadata": {},
   "outputs": [
    {
     "data": {
      "text/plain": [
       "<Figure size 432x288 with 0 Axes>"
      ]
     },
     "metadata": {},
     "output_type": "display_data"
    }
   ],
   "source": [
    "image_names = [ file for file in glob.glob('/home/elfo/side_projects/rice_type/Rice_Image_Dataset/*/*.jpg') ]\n",
    "\n",
    "cnt = 0\n",
    "for img in image_names:\n",
    "    if cnt%25==0:\n",
    "        move_image(img)\n",
    "    else:\n",
    "        process_image(img,cnt=cnt)\n",
    "    cnt += 1"
   ]
  },
  {
   "cell_type": "code",
   "execution_count": null,
   "id": "d27da355",
   "metadata": {},
   "outputs": [],
   "source": []
  }
 ],
 "metadata": {
  "interpreter": {
   "hash": "f365d436bfabf2328aa2e916057c89672dcdb49ba337c95f8a168919ff2ce5bb"
  },
  "kernelspec": {
   "display_name": "Python 3.9.7 64-bit ('sdf-1': venv)",
   "language": "python",
   "name": "python3"
  },
  "language_info": {
   "codemirror_mode": {
    "name": "ipython",
    "version": 3
   },
   "file_extension": ".py",
   "mimetype": "text/x-python",
   "name": "python",
   "nbconvert_exporter": "python",
   "pygments_lexer": "ipython3",
   "version": "3.9.7"
  }
 },
 "nbformat": 4,
 "nbformat_minor": 5
}
