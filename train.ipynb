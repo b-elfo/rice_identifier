{
 "cells": [
  {
   "cell_type": "code",
   "execution_count": 1,
   "metadata": {},
   "outputs": [],
   "source": [
    "import os, glob, sys\n",
    "sys.path.insert(1, '/home/elfo/side_projects/simsiam/')\n",
    "\n",
    "import numpy as np\n",
    "import torch\n",
    "from torch import optim\n",
    "from torch.optim.lr_scheduler import OneCycleLR\n",
    "\n",
    "from data import dataloader, SimSiamDataset\n",
    "from model import SimSiamNet\n",
    "from loss import SimSiamLoss\n",
    "from train import do_n_epochs\n",
    "\n",
    "import wandb"
   ]
  },
  {
   "cell_type": "code",
   "execution_count": 7,
   "metadata": {},
   "outputs": [],
   "source": [
    "max_lr = 5e-4\n",
    "batch_size = 32\n",
    "shuffle = True\n",
    "num_workers = 4\n",
    "num_epochs = 10\n",
    "\n",
    "dataset_path = '/home/elfo/side_projects/rice_type/rice_dataset'\n",
    "test_set_path = '/home/elfo/side_projects/rice_type/rice_labels_dataset'\n",
    "size = 250"
   ]
  },
  {
   "cell_type": "code",
   "execution_count": 3,
   "metadata": {},
   "outputs": [],
   "source": [
    "dataset = SimSiamDataset(dataset_path, \n",
    "                         size=size,\n",
    "                         )\n",
    "\n",
    "train_dataloader, valid_dataloader = dataloader(dataset_path,\n",
    "                                                batch_size=batch_size,\n",
    "                                                shuffle=shuffle,\n",
    "                                                num_workers=num_workers,\n",
    "                                                size=size,\n",
    "                                                )"
   ]
  },
  {
   "cell_type": "code",
   "execution_count": 4,
   "metadata": {},
   "outputs": [],
   "source": [
    "model = SimSiamNet(model_name='resnet50',\n",
    "                   pretrained=True)"
   ]
  },
  {
   "cell_type": "code",
   "execution_count": 5,
   "metadata": {},
   "outputs": [],
   "source": [
    "loss_func = SimSiamLoss()\n",
    "optimizer = optim.Adam(params=model.parameters(), \n",
    "                        lr=max_lr,\n",
    "                        )\n",
    "\n",
    "lr_sched = OneCycleLR(optimizer=optimizer,\n",
    "                        max_lr=max_lr,\n",
    "                        epochs=num_epochs,\n",
    "                        steps_per_epoch=len(train_dataloader),\n",
    "                        )"
   ]
  },
  {
   "cell_type": "code",
   "execution_count": null,
   "metadata": {},
   "outputs": [],
   "source": [
    "wandb.init(entity='elfo',\n",
    "           project='rice_type', \n",
    "           name='rice_training'\n",
    "           )"
   ]
  },
  {
   "cell_type": "code",
   "execution_count": 6,
   "metadata": {},
   "outputs": [
    {
     "name": "stdout",
     "output_type": "stream",
     "text": [
      "Step: 0\tLoss: -0.01\n",
      "Step: 1000\tLoss: -0.65\n",
      "Epoch: 0\tTrain loss: -0.60\tValid loss: -0.57\n",
      "\n",
      "Step: 0\tLoss: -0.71\n",
      "Step: 1000\tLoss: -0.80\n",
      "Epoch: 1\tTrain loss: -0.80\tValid loss: -0.75\n",
      "\n",
      "Step: 0\tLoss: -0.85\n",
      "Step: 1000\tLoss: -0.88\n",
      "Epoch: 2\tTrain loss: -0.86\tValid loss: -0.81\n",
      "\n",
      "Step: 0\tLoss: -0.85\n",
      "Step: 1000\tLoss: -0.90\n",
      "Epoch: 3\tTrain loss: -0.88\tValid loss: -0.81\n",
      "\n",
      "Step: 0\tLoss: -0.89\n",
      "Step: 1000\tLoss: -0.88\n",
      "Epoch: 4\tTrain loss: -0.89\tValid loss: -0.82\n",
      "\n",
      "Step: 0\tLoss: -0.91\n",
      "Step: 1000\tLoss: -0.90\n",
      "Epoch: 5\tTrain loss: -0.91\tValid loss: -0.85\n",
      "\n",
      "Step: 0\tLoss: -0.91\n",
      "Step: 1000\tLoss: -0.90\n",
      "Epoch: 6\tTrain loss: -0.91\tValid loss: -0.87\n",
      "\n",
      "Step: 0\tLoss: -0.90\n",
      "Step: 1000\tLoss: -0.93\n",
      "Epoch: 7\tTrain loss: -0.92\tValid loss: -0.87\n",
      "\n",
      "Step: 0\tLoss: -0.93\n",
      "Step: 1000\tLoss: -0.92\n",
      "Epoch: 8\tTrain loss: -0.92\tValid loss: -0.88\n",
      "\n",
      "Step: 0\tLoss: -0.92\n",
      "Step: 1000\tLoss: -0.93\n",
      "Epoch: 9\tTrain loss: -0.92\tValid loss: -0.88\n",
      "\n"
     ]
    }
   ],
   "source": [
    "do_n_epochs(train_dataloader=train_dataloader,\n",
    "            valid_dataloader=valid_dataloader,\n",
    "            model=model,\n",
    "            loss_func=loss_func,\n",
    "            optim=optimizer,\n",
    "            lr_sched=lr_sched,\n",
    "            num_epochs=num_epochs,\n",
    "            dataset_path=dataset_path,\n",
    "            )"
   ]
  },
  {
   "cell_type": "code",
   "execution_count": null,
   "metadata": {},
   "outputs": [],
   "source": [
    "test_dataset = SimSiamDataset(dataset_path, \n",
    "                              size=size,\n",
    "                              )\n",
    "model = torch.load('/home/elfo/side_projects/rice_type/models/rice_dataset/pretrain_model_epoch10.pth')"
   ]
  }
 ],
 "metadata": {
  "interpreter": {
   "hash": "f365d436bfabf2328aa2e916057c89672dcdb49ba337c95f8a168919ff2ce5bb"
  },
  "kernelspec": {
   "display_name": "Python 3.9.7 64-bit ('sdf-1': venv)",
   "language": "python",
   "name": "python3"
  },
  "language_info": {
   "codemirror_mode": {
    "name": "ipython",
    "version": 3
   },
   "file_extension": ".py",
   "mimetype": "text/x-python",
   "name": "python",
   "nbconvert_exporter": "python",
   "pygments_lexer": "ipython3",
   "version": "3.9.7"
  },
  "orig_nbformat": 4
 },
 "nbformat": 4,
 "nbformat_minor": 2
}
